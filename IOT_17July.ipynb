{
 "cells": [
  {
   "cell_type": "code",
   "execution_count": null,
   "id": "73443c13-c910-479f-bc52-321737ede66e",
   "metadata": {},
   "outputs": [],
   "source": []
  }
 ],
 "metadata": {
  "kernelspec": {
   "display_name": "",
   "name": ""
  },
  "language_info": {
   "name": ""
  }
 },
 "nbformat": 4,
 "nbformat_minor": 5
}
