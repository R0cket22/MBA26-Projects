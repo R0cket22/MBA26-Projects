{
 "cells": [
  {
   "cell_type": "code",
   "execution_count": 1,
   "id": "73443c13-c910-479f-bc52-321737ede66e",
   "metadata": {},
   "outputs": [
    {
     "name": "stdin",
     "output_type": "stream",
     "text": [
      "Enter first number:  1\n",
      "Enter operator (+, -, *, /):  /\n",
      "Enter second number:  0\n"
     ]
    },
    {
     "name": "stdout",
     "output_type": "stream",
     "text": [
      "Result: Error: Cannot divide by zero\n"
     ]
    }
   ],
   "source": [
    "def calculator(a, b, operator):\n",
    "    try:\n",
    "        if operator == '+':\n",
    "            return a + b\n",
    "        elif operator == '-':\n",
    "            return a - b\n",
    "        elif operator == '*':\n",
    "            return a * b\n",
    "        elif operator == '/':\n",
    "            return a / b if b != 0 else \"Error: Cannot divide by zero\"\n",
    "        else:\n",
    "            return \"Error: Invalid operator\"\n",
    "    except Exception as e:\n",
    "        return f\"Unexpected error: {e}\"\n",
    "\n",
    "# Example usage\n",
    "num1 = float(input(\"Enter first number: \"))\n",
    "op = input(\"Enter operator (+, -, *, /): \")\n",
    "num2 = float(input(\"Enter second number: \"))\n",
    "\n",
    "result = calculator(num1, num2, op)\n",
    "print(\"Result:\", result)\n"
   ]
  },
  {
   "cell_type": "code",
   "execution_count": null,
   "id": "e09e804e-3411-4aa3-bac5-9b04e7b891bf",
   "metadata": {},
   "outputs": [],
   "source": []
  }
 ],
 "metadata": {
  "kernelspec": {
   "display_name": "Python [conda env:base] *",
   "language": "python",
   "name": "conda-base-py"
  },
  "language_info": {
   "codemirror_mode": {
    "name": "ipython",
    "version": 3
   },
   "file_extension": ".py",
   "mimetype": "text/x-python",
   "name": "python",
   "nbconvert_exporter": "python",
   "pygments_lexer": "ipython3",
   "version": "3.12.7"
  }
 },
 "nbformat": 4,
 "nbformat_minor": 5
}
